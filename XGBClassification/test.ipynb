{
 "cells": [
  {
   "cell_type": "markdown",
   "metadata": {},
   "source": [
    "### Parameter\n"
   ]
  },
  {
   "cell_type": "code",
   "execution_count": 1,
   "metadata": {},
   "outputs": [],
   "source": [
    "# grid = {'gamma': 0, 'learning_rate': 0.3, 'max_bin': 5, 'max_depth': 1, 'max_leaves': 2, 'min_child_weight': 0.001, 'n_estimators': 75, 'num_parallel_tree': 1, 'scale_pos_weight': 4.5}\n",
    "# grid = {'gamma': 0, 'learning_rate': 0.2, 'max_bin': 8, 'max_depth': 1, 'max_leaves': 2, 'min_child_weight': 0, 'n_estimators': 70, 'num_parallel_tree': 1, 'scale_pos_weight': 4.5}\n",
    "grid = {'gamma': 0, 'learning_rate': 0.3, 'max_bin': 6, 'max_depth': 1, 'max_leaves': 2, 'min_child_weight': 0, 'n_estimators': 30, 'num_parallel_tree': 1, 'scale_pos_weight': 4.5}\n"
   ]
  },
  {
   "cell_type": "code",
   "execution_count": 2,
   "metadata": {},
   "outputs": [
    {
     "name": "stderr",
     "output_type": "stream",
     "text": [
      "2024-12-05 12:03:33.895710: I tensorflow/core/util/port.cc:153] oneDNN custom operations are on. You may see slightly different numerical results due to floating-point round-off errors from different computation orders. To turn them off, set the environment variable `TF_ENABLE_ONEDNN_OPTS=0`.\n",
      "2024-12-05 12:03:33.947425: E external/local_xla/xla/stream_executor/cuda/cuda_fft.cc:477] Unable to register cuFFT factory: Attempting to register factory for plugin cuFFT when one has already been registered\n",
      "WARNING: All log messages before absl::InitializeLog() is called are written to STDERR\n",
      "E0000 00:00:1733400213.974551  115791 cuda_dnn.cc:8310] Unable to register cuDNN factory: Attempting to register factory for plugin cuDNN when one has already been registered\n",
      "E0000 00:00:1733400213.982620  115791 cuda_blas.cc:1418] Unable to register cuBLAS factory: Attempting to register factory for plugin cuBLAS when one has already been registered\n",
      "2024-12-05 12:03:34.017101: I tensorflow/core/platform/cpu_feature_guard.cc:210] This TensorFlow binary is optimized to use available CPU instructions in performance-critical operations.\n",
      "To enable the following instructions: AVX2 AVX512F AVX512_VNNI FMA, in other operations, rebuild TensorFlow with the appropriate compiler flags.\n"
     ]
    }
   ],
   "source": [
    "import sys\n",
    "import os\n",
    "\n",
    "# Add the parent directory to the system path\n",
    "sys.path.append(os.path.abspath('../'))  # Adjust the path as needed\n",
    "\n",
    "from my_util import df_to_corr_matrix, remove_outliers\n",
    "\n",
    "import tensorflow as tf\n",
    "import pandas as pd\n",
    "import numpy as np\n",
    "import seaborn as sns\n",
    "import matplotlib.pyplot as plt\n",
    "import plotly.graph_objects as go\n",
    "\n",
    "from matplotlib.colors import Normalize\n",
    "from sklearn.decomposition import PCA\n",
    "from sklearn.model_selection import train_test_split, KFold, cross_val_score, GridSearchCV, cross_val_predict, StratifiedKFold\n",
    "from sklearn.preprocessing import StandardScaler, RobustScaler\n",
    "from sklearn.tree import DecisionTreeClassifier\n",
    "from sklearn.metrics import classification_report, confusion_matrix, precision_score, recall_score, accuracy_score, f1_score, make_scorer, balanced_accuracy_score\n",
    "from sklearn.svm import SVC\n",
    "from sklearn.feature_selection import SelectKBest, f_classif, chi2, mutual_info_classif\n",
    "from sklearn.impute import KNNImputer\n",
    "\n",
    "from imblearn.over_sampling import SMOTE\n",
    "from imblearn.pipeline import Pipeline\n",
    "\n",
    "from joblib import Parallel, delayed\n",
    "\n",
    "import xgboost as xgb\n",
    "from xgboost import XGBClassifier\n",
    "\n",
    "from pickle import dump , load\n",
    "\n",
    "import warnings"
   ]
  },
  {
   "cell_type": "code",
   "execution_count": 3,
   "metadata": {},
   "outputs": [],
   "source": [
    "test_file_path = '../TestDatasetExample.xls'"
   ]
  },
  {
   "cell_type": "markdown",
   "metadata": {},
   "source": [
    "### Load data"
   ]
  },
  {
   "cell_type": "code",
   "execution_count": 4,
   "metadata": {},
   "outputs": [
    {
     "name": "stdout",
     "output_type": "stream",
     "text": [
      "Loaded '../FeatureSelection/pkl/corr_25_selected_features.pkl' to selected_feature\n",
      "Loaded selected_features to X\n"
     ]
    }
   ],
   "source": [
    "X = pd.read_excel(test_file_path)\n",
    "\n",
    "X.replace(999, np.nan, inplace=True)\n",
    "\n",
    "NUM_OF_SELECTED_FEATURES = \"corr_25\"\n",
    "\n",
    "with open(f'../FeatureSelection/pkl/{NUM_OF_SELECTED_FEATURES}_selected_features.pkl', mode='rb') as file:\n",
    "    selected_features = load(file)\n",
    "    print(f\"Loaded '{file.name}' to selected_feature\")\n",
    "\n",
    "X = X[selected_features]\n",
    "print('Loaded selected_features to X')"
   ]
  },
  {
   "cell_type": "markdown",
   "metadata": {},
   "source": [
    "### Load model"
   ]
  },
  {
   "cell_type": "code",
   "execution_count": 5,
   "metadata": {},
   "outputs": [
    {
     "name": "stdout",
     "output_type": "stream",
     "text": [
      "['Gene', 'HER2', 'PgR', 'ER', 'original_firstorder_10Percentile', 'original_ngtdm_Busyness', 'LNStatus', 'TumourStage', 'original_gldm_DependenceEntropy', 'original_firstorder_Skewness', 'original_glrlm_ShortRunHighGrayLevelEmphasis', 'original_ngtdm_Strength', 'original_gldm_SmallDependenceEmphasis', 'original_firstorder_InterquartileRange', 'original_shape_MajorAxisLength', 'original_glrlm_LongRunLowGrayLevelEmphasis', 'original_firstorder_Minimum', 'HistologyType', 'ChemoGrade', 'original_shape_Maximum2DDiameterRow', 'original_shape_Maximum2DDiameterColumn', 'original_shape_SurfaceVolumeRatio', 'original_shape_LeastAxisLength', 'original_glcm_Autocorrelation', 'original_shape_Sphericity']\n"
     ]
    }
   ],
   "source": [
    "model = XGBClassifier()\n",
    "model.load_model(\"model.ubj\")\n",
    "\n",
    "print(selected_features)\n",
    "y_pred = model.predict(X)"
   ]
  },
  {
   "cell_type": "code",
   "execution_count": 6,
   "metadata": {},
   "outputs": [
    {
     "data": {
      "text/plain": [
       "array([0, 1, 1])"
      ]
     },
     "execution_count": 6,
     "metadata": {},
     "output_type": "execute_result"
    }
   ],
   "source": [
    "y_pred"
   ]
  },
  {
   "cell_type": "markdown",
   "metadata": {},
   "source": [
    "### Retrain the model with different data and evaluate the model"
   ]
  },
  {
   "cell_type": "code",
   "execution_count": 33,
   "metadata": {},
   "outputs": [
    {
     "name": "stdout",
     "output_type": "stream",
     "text": [
      "Loaded '../FeatureSelection/pkl/corr_25_selected_features.pkl' to selected_feature\n",
      "(395, 25) (395,)\n",
      "Splited the data into train and test. The test will not be used in the training, but just for test the xgb. \n",
      "The training data has 347 data. The testing data has 48 data. \n",
      "Positive ratio: \n",
      "\tTrain: 0.21326\n",
      "\tTest: 0.20833\n",
      "(347, 25)\n",
      "[[185  88]\n",
      " [ 18  56]]\n",
      "              precision    recall  f1-score   support\n",
      "\n",
      "         0.0       0.91      0.68      0.78       273\n",
      "         1.0       0.39      0.76      0.51        74\n",
      "\n",
      "    accuracy                           0.69       347\n",
      "   macro avg       0.65      0.72      0.65       347\n",
      "weighted avg       0.80      0.69      0.72       347\n",
      "\n",
      "Balanced accuracy score: 0.7172062172062172\n",
      "F1 Score: 0.5137614678899083\n",
      "Precision: 0.3888888888888889\n",
      "Recall: 0.7567567567567568\n",
      "Specificity: 0.6776556776556777\n",
      "\n",
      "(48, 25)\n",
      "[[24 14]\n",
      " [ 0 10]]\n",
      "              precision    recall  f1-score   support\n",
      "\n",
      "         0.0       1.00      0.63      0.77        38\n",
      "         1.0       0.42      1.00      0.59        10\n",
      "\n",
      "    accuracy                           0.71        48\n",
      "   macro avg       0.71      0.82      0.68        48\n",
      "weighted avg       0.88      0.71      0.74        48\n",
      "\n",
      "Balanced accuracy score: 0.8157894736842105\n",
      "F1 Score: 0.5882352941176471\n",
      "Precision: 0.4166666666666667\n",
      "Recall: 1.0\n",
      "Specificity: 0.631578947368421\n",
      "\n",
      "Use the whole data to train and do CV\n",
      "[[207 104]\n",
      " [ 16  68]]\n",
      "              precision    recall  f1-score   support\n",
      "\n",
      "         0.0       0.93      0.67      0.78       311\n",
      "         1.0       0.40      0.81      0.53        84\n",
      "\n",
      "    accuracy                           0.70       395\n",
      "   macro avg       0.66      0.74      0.65       395\n",
      "weighted avg       0.81      0.70      0.72       395\n",
      "\n",
      "Balanced accuracy score: 0.7375593324146379\n",
      "F1 Score: 0.53125\n",
      "Precision: 0.3953488372093023\n",
      "Recall: 0.8095238095238095\n",
      "Specificity: 0.6655948553054662\n",
      "\n"
     ]
    }
   ],
   "source": [
    "NUM_OF_SELECTED_FEATURES = \"corr_25\"\n",
    "\n",
    "data = pd.read_excel(\"../TrainDataset2024.xls\")\n",
    "data.replace(999, np.nan, inplace=True)\n",
    "\n",
    "data.drop([\"ID\", \"RelapseFreeSurvival (outcome)\"], axis=1, inplace=True)\n",
    "data.dropna(subset=[\"pCR (outcome)\"], inplace=True)\n",
    "\n",
    "with open(f'../FeatureSelection/pkl/{NUM_OF_SELECTED_FEATURES}_selected_features.pkl', mode='rb') as file:\n",
    "    selected_features = load(file)\n",
    "    print(f\"Loaded '{file.name}' to selected_feature\")\n",
    "\n",
    "X = data[selected_features]\n",
    "y = data[\"pCR (outcome)\"]\n",
    "print(X.shape, y.shape)\n",
    "\n",
    "while True:  \n",
    "    # X_train_full, X_test_reserved, y_train_full, y_test_reserved = train_test_split(X, y, test_size=0.2, random_state=14) # similar distribution of 1 and 0\n",
    "    X_train_full, X_test_reserved, y_train_full, y_test_reserved = train_test_split(X, y, test_size=0.12, random_state=None)\n",
    "\n",
    "    X_train_full.reset_index(drop=True, inplace=True)\n",
    "    X_test_reserved.reset_index(drop=True, inplace=True)\n",
    "    y_train_full.reset_index(drop=True, inplace=True)\n",
    "    y_test_reserved.reset_index(drop=True, inplace=True)\n",
    "\n",
    "    ratio_train = sum(y_train_full[y_train_full==1]) / len(y_train_full)\n",
    "    ratio_test = sum(y_test_reserved[y_test_reserved==1]) / len(y_test_reserved)\n",
    "\n",
    "    if abs(ratio_train - ratio_test) < 0.03:\n",
    "        break\n",
    "\n",
    "print(\"Splited the data into train and test. The test will not be used in the training, but just for test the xgb. \")\n",
    "print(f\"The training data has {len(X_train_full)} data. The testing data has {len(X_test_reserved)} data. \")\n",
    "print(f\"Positive ratio: \\n\\tTrain: {ratio_train:.5f}\\n\\tTest: {ratio_test:.5f}\")\n",
    "\n",
    "stratified_kfold = StratifiedKFold(n_splits=5, shuffle=True)\n",
    "\n",
    "model.set_params(**grid)\n",
    "\n",
    "print(X_train_full.shape)\n",
    "\n",
    "y_pred_cv = cross_val_predict(model, X_train_full, y_train_full, cv=stratified_kfold)\n",
    "print(confusion_matrix(y_train_full, y_pred_cv))\n",
    "print(classification_report(y_train_full, y_pred_cv))\n",
    "print(f\"Balanced accuracy score: {balanced_accuracy_score(y_train_full, y_pred_cv)}\")\n",
    "print(f\"F1 Score: {f1_score(y_train_full, y_pred_cv)}\")\n",
    "print(f\"Precision: {precision_score(y_train_full, y_pred_cv)}\")\n",
    "print(f\"Recall: {recall_score(y_train_full, y_pred_cv)}\")\n",
    "print(f\"Specificity: {recall_score(y_train_full, y_pred_cv, pos_label=0)}\")\n",
    "print()\n",
    "\n",
    "y_pred = model.predict(X_test_reserved)\n",
    "\n",
    "print(X_test_reserved.shape)\n",
    "\n",
    "print(confusion_matrix(y_test_reserved, y_pred))\n",
    "print(classification_report(y_test_reserved, y_pred))\n",
    "print(f\"Balanced accuracy score: {balanced_accuracy_score(y_test_reserved, y_pred)}\")\n",
    "print(f\"F1 Score: {f1_score(y_test_reserved, y_pred)}\")\n",
    "print(f\"Precision: {precision_score(y_test_reserved, y_pred)}\")\n",
    "print(f\"Recall: {recall_score(y_test_reserved, y_pred)}\")\n",
    "print(f\"Specificity: {recall_score(y_test_reserved, y_pred, pos_label=0)}\")\n",
    "\n",
    "\n",
    "print(\"\\nUse the whole data to train and do CV\")\n",
    "y_pred_cv = cross_val_predict(model, X, y, cv=stratified_kfold)\n",
    "print(confusion_matrix(y, y_pred_cv))\n",
    "print(classification_report(y, y_pred_cv))\n",
    "print(f\"Balanced accuracy score: {balanced_accuracy_score(y, y_pred_cv)}\")\n",
    "print(f\"F1 Score: {f1_score(y, y_pred_cv)}\")\n",
    "print(f\"Precision: {precision_score(y, y_pred_cv)}\")\n",
    "print(f\"Recall: {recall_score(y, y_pred_cv)}\")\n",
    "print(f\"Specificity: {recall_score(y, y_pred_cv, pos_label=0)}\")\n",
    "print()"
   ]
  }
 ],
 "metadata": {
  "kernelspec": {
   "display_name": "MLEAsm",
   "language": "python",
   "name": "python3"
  },
  "language_info": {
   "codemirror_mode": {
    "name": "ipython",
    "version": 3
   },
   "file_extension": ".py",
   "mimetype": "text/x-python",
   "name": "python",
   "nbconvert_exporter": "python",
   "pygments_lexer": "ipython3",
   "version": "3.10.15"
  }
 },
 "nbformat": 4,
 "nbformat_minor": 2
}
