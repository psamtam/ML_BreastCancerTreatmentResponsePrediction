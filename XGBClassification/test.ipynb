{
 "cells": [
  {
   "cell_type": "markdown",
   "metadata": {},
   "source": [
    "### Imports"
   ]
  },
  {
   "cell_type": "code",
   "execution_count": 24,
   "metadata": {},
   "outputs": [],
   "source": [
    "import sys\n",
    "import os\n",
    "\n",
    "# Add the parent directory to the system path\n",
    "sys.path.append(os.path.abspath('../'))  # Adjust the path as needed\n",
    "\n",
    "from my_util import df_to_corr_matrix, remove_outliers\n",
    "\n",
    "import tensorflow as tf\n",
    "import pandas as pd\n",
    "import numpy as np\n",
    "import seaborn as sns\n",
    "import matplotlib.pyplot as plt\n",
    "import plotly.graph_objects as go\n",
    "\n",
    "from matplotlib.colors import Normalize\n",
    "from sklearn.decomposition import PCA\n",
    "from sklearn.model_selection import train_test_split, KFold, cross_val_score, GridSearchCV, cross_val_predict, StratifiedKFold\n",
    "from sklearn.preprocessing import StandardScaler, RobustScaler\n",
    "from sklearn.tree import DecisionTreeClassifier\n",
    "from sklearn.metrics import classification_report, confusion_matrix, precision_score, recall_score, accuracy_score, f1_score, make_scorer, balanced_accuracy_score\n",
    "from sklearn.svm import SVC\n",
    "from sklearn.feature_selection import SelectKBest, f_classif, chi2, mutual_info_classif\n",
    "from sklearn.impute import KNNImputer\n",
    "\n",
    "from imblearn.over_sampling import SMOTE\n",
    "from imblearn.pipeline import Pipeline\n",
    "\n",
    "from joblib import Parallel, delayed\n",
    "\n",
    "import xgboost as xgb\n",
    "from xgboost import XGBClassifier\n",
    "\n",
    "from pickle import dump , load\n",
    "\n",
    "import warnings"
   ]
  },
  {
   "cell_type": "markdown",
   "metadata": {},
   "source": [
    "### Parameter\n"
   ]
  },
  {
   "cell_type": "code",
   "execution_count": 91,
   "metadata": {},
   "outputs": [],
   "source": [
    "params = []\n",
    "with open(\"pkl/best_params_15.pkl\", 'rb') as file:\n",
    "  params.append(load(file))\n",
    "with open(\"pkl/best_params_20.pkl\", 'rb') as file:\n",
    "  params.append(load(file))\n",
    "with open(\"pkl/best_params_25.pkl\", 'rb') as file:\n",
    "  params.append(load(file))\n",
    "with open(\"pkl/best_params_30.pkl\", 'rb') as file:\n",
    "  params.append(load(file))\n",
    "with open(\"pkl/best_params_35.pkl\", 'rb') as file:\n",
    "  params.append(load(file))"
   ]
  },
  {
   "cell_type": "markdown",
   "metadata": {},
   "source": [
    "### Varify model's robustness using different datasets."
   ]
  },
  {
   "cell_type": "code",
   "execution_count": 92,
   "metadata": {},
   "outputs": [
    {
     "name": "stdout",
     "output_type": "stream",
     "text": [
      "File 0:\n",
      "[[43 19]\n",
      " [ 5 12]]\n",
      "0.6997153700189753\n",
      "File 1:\n",
      "[[31 31]\n",
      " [ 0 17]]\n",
      "0.75\n",
      "File 2:\n",
      "[[40 22]\n",
      " [ 3 14]]\n",
      "0.7343453510436433\n",
      "Averaged balanced accuracy: 0.7280202403542062\n"
     ]
    }
   ],
   "source": [
    "NUM_OF_SELECTED_FEATURES = [25, 30, 35]\n",
    "\n",
    "files = [(\"../train_data.xls\", \"../test_data.xls\"), (\"../train_data_2.xls\", \"../test_data_2.xls\"), (\"../train_data_3.xls\", \"../test_data_3.xls\")]\n",
    "\n",
    "ba = []\n",
    "\n",
    "for index, (train_file, test_file) in enumerate(files):\n",
    "    data = pd.read_excel(train_file)\n",
    "    data.replace(999, np.nan, inplace=True)\n",
    "\n",
    "    data.drop([\"ID\", \"RelapseFreeSurvival (outcome)\"], axis=1, inplace=True)\n",
    "    data.dropna(subset=[\"pCR (outcome)\"], inplace=True)\n",
    "\n",
    "    X = data.drop(columns='pCR (outcome)', axis=1)\n",
    "    y = data[\"pCR (outcome)\"]\n",
    "    # print(X.shape, y.shape)\n",
    "\n",
    "    testdata = pd.read_excel(test_file)\n",
    "    testdata.replace(999, np.nan, inplace=True)\n",
    "\n",
    "    testdata.drop([\"ID\", \"RelapseFreeSurvival (outcome)\"], axis=1, inplace=True)\n",
    "    testdata.dropna(subset=[\"pCR (outcome)\"], inplace=True)\n",
    "\n",
    "    X_test = testdata.drop(columns='pCR (outcome)', axis=1)\n",
    "    y_test = testdata[\"pCR (outcome)\"]\n",
    "    # print(X_test.shape, y_test.shape)\n",
    "\n",
    "    models = len(NUM_OF_SELECTED_FEATURES)*[XGBClassifier()]\n",
    "\n",
    "    selected_features = []\n",
    "\n",
    "    for i in NUM_OF_SELECTED_FEATURES:\n",
    "        FEATURES_FILE_PREFIX = F\"corr_{i}\"\n",
    "        with open(f'../FeatureSelection/pkl/{FEATURES_FILE_PREFIX}_selected_features.pkl', mode='rb') as file:\n",
    "            selected_features.append(load(file))\n",
    "            # print(f\"Loaded '{file.name}' to selected_feature\")\n",
    "\n",
    "    y_pred = []\n",
    "\n",
    "    for i, model in enumerate(models):\n",
    "        X_train_temp = X[selected_features[i]]\n",
    "        X_test_temp = X_test[selected_features[i]]\n",
    "        model.set_params(**params[5-len(NUM_OF_SELECTED_FEATURES)+i])\n",
    "        model.fit(X, y)\n",
    "        y_pred.append(model.predict(X_test))\n",
    "\n",
    "    y_pred = np.array(y_pred)\n",
    "\n",
    "    yp = np.round(np.average(y_pred, axis=0))\n",
    "\n",
    "    print(f\"File {index}:\")\n",
    "    print(confusion_matrix(y_test, yp))\n",
    "    ba.append(balanced_accuracy_score(y_test, yp))\n",
    "    print(ba[-1])\n",
    "\n",
    "print(f\"Averaged balanced accuracy: {np.mean(ba)}\")\n"
   ]
  },
  {
   "cell_type": "markdown",
   "metadata": {},
   "source": [
    "### Predict data"
   ]
  },
  {
   "cell_type": "code",
   "execution_count": 102,
   "metadata": {},
   "outputs": [],
   "source": [
    "NUM_OF_SELECTED_FEATURES = [25, 30, 35]\n",
    "\n",
    "data = pd.read_excel(\"../TrainDataset2024.xls\")\n",
    "data.replace(999, np.nan, inplace=True)\n",
    "\n",
    "data.drop([\"ID\", \"RelapseFreeSurvival (outcome)\"], axis=1, inplace=True)\n",
    "data.dropna(subset=[\"pCR (outcome)\"], inplace=True)\n",
    "\n",
    "X_train = data.drop(columns='pCR (outcome)', axis=1)\n",
    "y_train = data[\"pCR (outcome)\"]\n",
    "# print(X.shape, y.shape)\n",
    "\n",
    "testdata = pd.read_excel(\"../TestDatasetExample.xls\")\n",
    "testdata.replace(999, np.nan, inplace=True)\n",
    "\n",
    "id = testdata[\"ID\"]\n",
    "\n",
    "testdata.drop([\"ID\"], axis=1, inplace=True)\n",
    "\n",
    "X_test = testdata\n",
    "\n",
    "models = len(NUM_OF_SELECTED_FEATURES)*[XGBClassifier()]\n",
    "\n",
    "selected_features = []\n",
    "\n",
    "for i in NUM_OF_SELECTED_FEATURES:\n",
    "    FEATURES_FILE_PREFIX = F\"corr_{i}\"\n",
    "    with open(f'../FeatureSelection/pkl/{FEATURES_FILE_PREFIX}_selected_features.pkl', mode='rb') as file:\n",
    "        selected_features.append(load(file))\n",
    "        # print(f\"Loaded '{file.name}' to selected_feature\")\n",
    "\n",
    "y_pred = []\n",
    "y_pred_train = []\n",
    "\n",
    "for i, model in enumerate(models):\n",
    "    X_train_temp = X_train[selected_features[i]]\n",
    "    X_test_temp = X_test[selected_features[i]]\n",
    "    model.set_params(**params[5-len(NUM_OF_SELECTED_FEATURES)+i])\n",
    "    model.fit(X_train, y_train)\n",
    "    y_pred.append(model.predict(X_test))\n",
    "\n",
    "y_pred = np.array(y_pred)\n",
    "\n",
    "yp = np.round(np.average(y_pred, axis=0))\n",
    "\n",
    "yp = pd.concat([id, pd.Series(yp)], axis=1)"
   ]
  },
  {
   "cell_type": "code",
   "execution_count": 104,
   "metadata": {},
   "outputs": [
    {
     "data": {
      "text/html": [
       "<div>\n",
       "<style scoped>\n",
       "    .dataframe tbody tr th:only-of-type {\n",
       "        vertical-align: middle;\n",
       "    }\n",
       "\n",
       "    .dataframe tbody tr th {\n",
       "        vertical-align: top;\n",
       "    }\n",
       "\n",
       "    .dataframe thead th {\n",
       "        text-align: right;\n",
       "    }\n",
       "</style>\n",
       "<table border=\"1\" class=\"dataframe\">\n",
       "  <thead>\n",
       "    <tr style=\"text-align: right;\">\n",
       "      <th></th>\n",
       "      <th>ID</th>\n",
       "      <th>0</th>\n",
       "    </tr>\n",
       "  </thead>\n",
       "  <tbody>\n",
       "    <tr>\n",
       "      <th>0</th>\n",
       "      <td>TRG002728</td>\n",
       "      <td>0.0</td>\n",
       "    </tr>\n",
       "    <tr>\n",
       "      <th>1</th>\n",
       "      <td>TRG002649</td>\n",
       "      <td>1.0</td>\n",
       "    </tr>\n",
       "    <tr>\n",
       "      <th>2</th>\n",
       "      <td>TRG002628</td>\n",
       "      <td>1.0</td>\n",
       "    </tr>\n",
       "  </tbody>\n",
       "</table>\n",
       "</div>"
      ],
      "text/plain": [
       "          ID    0\n",
       "0  TRG002728  0.0\n",
       "1  TRG002649  1.0\n",
       "2  TRG002628  1.0"
      ]
     },
     "execution_count": 104,
     "metadata": {},
     "output_type": "execute_result"
    }
   ],
   "source": [
    "yp"
   ]
  }
 ],
 "metadata": {
  "kernelspec": {
   "display_name": "MLEAsm",
   "language": "python",
   "name": "python3"
  },
  "language_info": {
   "codemirror_mode": {
    "name": "ipython",
    "version": 3
   },
   "file_extension": ".py",
   "mimetype": "text/x-python",
   "name": "python",
   "nbconvert_exporter": "python",
   "pygments_lexer": "ipython3",
   "version": "3.10.15"
  }
 },
 "nbformat": 4,
 "nbformat_minor": 2
}
