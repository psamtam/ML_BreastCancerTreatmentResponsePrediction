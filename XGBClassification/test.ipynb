{
 "cells": [
  {
   "cell_type": "markdown",
   "metadata": {},
   "source": [
    "### Parameter\n"
   ]
  },
  {
   "cell_type": "code",
   "execution_count": 1,
   "metadata": {},
   "outputs": [],
   "source": [
    "# grid = {'gamma': 0, 'learning_rate': 0.3, 'max_bin': 5, 'max_depth': 1, 'max_leaves': 2, 'min_child_weight': 0.001, 'n_estimators': 75, 'num_parallel_tree': 1, 'scale_pos_weight': 4.5}\n",
    "# grid = {'gamma': 0, 'learning_rate': 0.2, 'max_bin': 8, 'max_depth': 1, 'max_leaves': 2, 'min_child_weight': 0, 'n_estimators': 70, 'num_parallel_tree': 1, 'scale_pos_weight': 4.5}\n",
    "grid = {'gamma': 0, 'learning_rate': 0.3, 'max_bin': 6, 'max_depth': 1, 'max_leaves': 2, 'min_child_weight': 0, 'n_estimators': 30, 'num_parallel_tree': 1, 'scale_pos_weight': 4.5}\n"
   ]
  },
  {
   "cell_type": "code",
   "execution_count": 2,
   "metadata": {},
   "outputs": [
    {
     "name": "stderr",
     "output_type": "stream",
     "text": [
      "2024-12-07 11:08:10.199456: I tensorflow/core/util/port.cc:153] oneDNN custom operations are on. You may see slightly different numerical results due to floating-point round-off errors from different computation orders. To turn them off, set the environment variable `TF_ENABLE_ONEDNN_OPTS=0`.\n",
      "2024-12-07 11:08:10.209613: E external/local_xla/xla/stream_executor/cuda/cuda_fft.cc:477] Unable to register cuFFT factory: Attempting to register factory for plugin cuFFT when one has already been registered\n",
      "WARNING: All log messages before absl::InitializeLog() is called are written to STDERR\n",
      "E0000 00:00:1733569690.221275    3779 cuda_dnn.cc:8310] Unable to register cuDNN factory: Attempting to register factory for plugin cuDNN when one has already been registered\n",
      "E0000 00:00:1733569690.224574    3779 cuda_blas.cc:1418] Unable to register cuBLAS factory: Attempting to register factory for plugin cuBLAS when one has already been registered\n",
      "2024-12-07 11:08:10.237367: I tensorflow/core/platform/cpu_feature_guard.cc:210] This TensorFlow binary is optimized to use available CPU instructions in performance-critical operations.\n",
      "To enable the following instructions: AVX2 AVX512F AVX512_VNNI FMA, in other operations, rebuild TensorFlow with the appropriate compiler flags.\n"
     ]
    }
   ],
   "source": [
    "import sys\n",
    "import os\n",
    "\n",
    "# Add the parent directory to the system path\n",
    "sys.path.append(os.path.abspath('../'))  # Adjust the path as needed\n",
    "\n",
    "from my_util import df_to_corr_matrix, remove_outliers\n",
    "\n",
    "import tensorflow as tf\n",
    "import pandas as pd\n",
    "import numpy as np\n",
    "import seaborn as sns\n",
    "import matplotlib.pyplot as plt\n",
    "import plotly.graph_objects as go\n",
    "\n",
    "from matplotlib.colors import Normalize\n",
    "from sklearn.decomposition import PCA\n",
    "from sklearn.model_selection import train_test_split, KFold, cross_val_score, GridSearchCV, cross_val_predict, StratifiedKFold\n",
    "from sklearn.preprocessing import StandardScaler, RobustScaler\n",
    "from sklearn.tree import DecisionTreeClassifier\n",
    "from sklearn.metrics import classification_report, confusion_matrix, precision_score, recall_score, accuracy_score, f1_score, make_scorer, balanced_accuracy_score\n",
    "from sklearn.svm import SVC\n",
    "from sklearn.feature_selection import SelectKBest, f_classif, chi2, mutual_info_classif\n",
    "from sklearn.impute import KNNImputer\n",
    "\n",
    "from imblearn.over_sampling import SMOTE\n",
    "from imblearn.pipeline import Pipeline\n",
    "\n",
    "from joblib import Parallel, delayed\n",
    "\n",
    "import xgboost as xgb\n",
    "from xgboost import XGBClassifier\n",
    "\n",
    "from pickle import dump , load\n",
    "\n",
    "import warnings"
   ]
  },
  {
   "cell_type": "code",
   "execution_count": 3,
   "metadata": {},
   "outputs": [],
   "source": [
    "test_file_path = '../TestDatasetExample.xls'"
   ]
  },
  {
   "cell_type": "markdown",
   "metadata": {},
   "source": [
    "### Load data"
   ]
  },
  {
   "cell_type": "code",
   "execution_count": 4,
   "metadata": {},
   "outputs": [
    {
     "name": "stdout",
     "output_type": "stream",
     "text": [
      "Loaded '../FeatureSelection/pkl/corr_25_selected_features.pkl' to selected_feature\n",
      "Loaded selected_features to X\n"
     ]
    }
   ],
   "source": [
    "X = pd.read_excel(test_file_path)\n",
    "\n",
    "X.replace(999, np.nan, inplace=True)\n",
    "\n",
    "NUM_OF_SELECTED_FEATURES = \"corr_25\"\n",
    "\n",
    "with open(f'../FeatureSelection/pkl/{NUM_OF_SELECTED_FEATURES}_selected_features.pkl', mode='rb') as file:\n",
    "    selected_features = load(file)\n",
    "    print(f\"Loaded '{file.name}' to selected_feature\")\n",
    "\n",
    "X = X[selected_features]\n",
    "print('Loaded selected_features to X')"
   ]
  },
  {
   "cell_type": "markdown",
   "metadata": {},
   "source": [
    "### Load model"
   ]
  },
  {
   "cell_type": "code",
   "execution_count": 5,
   "metadata": {},
   "outputs": [
    {
     "name": "stdout",
     "output_type": "stream",
     "text": [
      "['Gene', 'HER2', 'PgR', 'ER', 'original_firstorder_10Percentile', 'original_ngtdm_Busyness', 'LNStatus', 'TumourStage', 'original_gldm_DependenceEntropy', 'original_firstorder_Skewness', 'original_glrlm_ShortRunHighGrayLevelEmphasis', 'original_ngtdm_Strength', 'original_gldm_SmallDependenceEmphasis', 'original_firstorder_InterquartileRange', 'original_shape_MajorAxisLength', 'original_glrlm_LongRunLowGrayLevelEmphasis', 'original_firstorder_Minimum', 'HistologyType', 'ChemoGrade', 'original_shape_Maximum2DDiameterRow', 'original_shape_Maximum2DDiameterColumn', 'original_shape_SurfaceVolumeRatio', 'original_shape_LeastAxisLength', 'original_glcm_Autocorrelation', 'original_shape_Sphericity']\n"
     ]
    }
   ],
   "source": [
    "model = XGBClassifier()\n",
    "model.load_model(\"model.ubj\")\n",
    "\n",
    "print(selected_features)\n",
    "y_pred = model.predict(X)"
   ]
  },
  {
   "cell_type": "code",
   "execution_count": 6,
   "metadata": {},
   "outputs": [
    {
     "data": {
      "text/plain": [
       "array([0, 1, 1])"
      ]
     },
     "execution_count": 6,
     "metadata": {},
     "output_type": "execute_result"
    }
   ],
   "source": [
    "y_pred"
   ]
  },
  {
   "cell_type": "markdown",
   "metadata": {},
   "source": [
    "### Retrain the model with different data and evaluate the model"
   ]
  },
  {
   "cell_type": "code",
   "execution_count": 22,
   "metadata": {},
   "outputs": [
    {
     "name": "stdout",
     "output_type": "stream",
     "text": [
      "Loaded '../FeatureSelection/pkl/corr_25_selected_features.pkl' to selected_feature\n",
      "(395, 25) (395,)\n",
      "Split data using train_test_split with random_state=14\n",
      "Splited the data into train and test. The test will not be used in the training, but just for test the xgb. \n",
      "The training data has 316 data. The testing data has 79 data. \n",
      "Positive ratio: \n",
      "\tTrain: 0.21203\n",
      "\tTest: 0.21519\n",
      "\n",
      "Cross validation for the train set using StratifiedKFold with random_state=13: (316, 25)\n",
      "[[172  77]\n",
      " [  8  59]]\n",
      "              precision    recall  f1-score   support\n",
      "\n",
      "         0.0       0.96      0.69      0.80       249\n",
      "         1.0       0.43      0.88      0.58        67\n",
      "\n",
      "    accuracy                           0.73       316\n",
      "   macro avg       0.69      0.79      0.69       316\n",
      "weighted avg       0.84      0.73      0.76       316\n",
      "\n",
      "Balanced accuracy score: 0.7856800335671043\n",
      "F1 Score: 0.5812807881773399\n",
      "Precision: 0.4338235294117647\n",
      "Recall: 0.8805970149253731\n",
      "Specificity: 0.6907630522088354\n",
      "\n",
      "\n",
      "Result of the test set: (79, 25)\n",
      "[[37 25]\n",
      " [ 1 16]]\n",
      "              precision    recall  f1-score   support\n",
      "\n",
      "         0.0       0.97      0.60      0.74        62\n",
      "         1.0       0.39      0.94      0.55        17\n",
      "\n",
      "    accuracy                           0.67        79\n",
      "   macro avg       0.68      0.77      0.65        79\n",
      "weighted avg       0.85      0.67      0.70        79\n",
      "\n",
      "Balanced accuracy score: 0.7689753320683113\n",
      "F1 Score: 0.5517241379310345\n",
      "Precision: 0.3902439024390244\n",
      "Recall: 0.9411764705882353\n",
      "Specificity: 0.5967741935483871\n",
      "\n",
      "Use the whole data to train and do CV using StratifiedKFold with random_state={rs}\n",
      "[[209 102]\n",
      " [ 13  71]]\n",
      "              precision    recall  f1-score   support\n",
      "\n",
      "         0.0       0.94      0.67      0.78       311\n",
      "         1.0       0.41      0.85      0.55        84\n",
      "\n",
      "    accuracy                           0.71       395\n",
      "   macro avg       0.68      0.76      0.67       395\n",
      "weighted avg       0.83      0.71      0.73       395\n",
      "\n",
      "Balanced accuracy score: 0.7586319093553819\n",
      "F1 Score: 0.5525291828793775\n",
      "Precision: 0.41040462427745666\n",
      "Recall: 0.8452380952380952\n",
      "Specificity: 0.6720257234726688\n",
      "\n",
      "Predict the test file:\n",
      "Loaded '../FeatureSelection/pkl/corr_25_selected_features.pkl' to selected_feature\n",
      "[0 1 1]\n"
     ]
    }
   ],
   "source": [
    "model = XGBClassifier()\n",
    "\n",
    "NUM_OF_SELECTED_FEATURES = \"corr_25\"\n",
    "\n",
    "data = pd.read_excel(\"../TrainDataset2024.xls\")\n",
    "data.replace(999, np.nan, inplace=True)\n",
    "\n",
    "data.drop([\"ID\", \"RelapseFreeSurvival (outcome)\"], axis=1, inplace=True)\n",
    "data.dropna(subset=[\"pCR (outcome)\"], inplace=True)\n",
    "\n",
    "with open(f'../FeatureSelection/pkl/{NUM_OF_SELECTED_FEATURES}_selected_features.pkl', mode='rb') as file:\n",
    "    selected_features = load(file)\n",
    "    print(f\"Loaded '{file.name}' to selected_feature\")\n",
    "\n",
    "X = data[selected_features]\n",
    "y = data[\"pCR (outcome)\"]\n",
    "print(X.shape, y.shape)\n",
    "\n",
    "rs = 10\n",
    "while True:  \n",
    "    # X_train_full, X_test_reserved, y_train_full, y_test_reserved = train_test_split(X, y, test_size=0.2, random_state=46) # similar distribution of 1 and 0\n",
    "    X_train_full, X_test_reserved, y_train_full, y_test_reserved = train_test_split(X, y, test_size=0.2, random_state=rs)\n",
    "\n",
    "    X_train_full.reset_index(drop=True, inplace=True)\n",
    "    X_test_reserved.reset_index(drop=True, inplace=True)\n",
    "    y_train_full.reset_index(drop=True, inplace=True)\n",
    "    y_test_reserved.reset_index(drop=True, inplace=True)\n",
    "\n",
    "    ratio_train = sum(y_train_full[y_train_full==1]) / len(y_train_full)\n",
    "    ratio_test = sum(y_test_reserved[y_test_reserved==1]) / len(y_test_reserved)\n",
    "\n",
    "    if abs(ratio_train - ratio_test) < 0.01:\n",
    "        print(f\"Split data using train_test_split with random_state={rs}\")\n",
    "        break\n",
    "    rs+=1\n",
    "\n",
    "print(\"Splited the data into train and test. The test will not be used in the training, but just for test the xgb. \")\n",
    "print(f\"The training data has {len(X_train_full)} data. The testing data has {len(X_test_reserved)} data. \")\n",
    "print(f\"Positive ratio: \\n\\tTrain: {ratio_train:.5f}\\n\\tTest: {ratio_test:.5f}\")\n",
    "\n",
    "# stratified_kfold = StratifiedKFold(n_splits=5, shuffle=False)\n",
    "rs = 13\n",
    "stratified_kfold = StratifiedKFold(n_splits=5, shuffle=True, random_state=13)\n",
    "\n",
    "model.set_params(**grid)\n",
    "\n",
    "print(f\"\\nCross validation for the train set using StratifiedKFold with random_state={rs}: {X_train_full.shape}\")\n",
    "\n",
    "y_pred_cv = cross_val_predict(model, X_train_full, y_train_full, cv=stratified_kfold)\n",
    "print(confusion_matrix(y_train_full, y_pred_cv))\n",
    "print(classification_report(y_train_full, y_pred_cv))\n",
    "print(f\"Balanced accuracy score: {balanced_accuracy_score(y_train_full, y_pred_cv)}\")\n",
    "print(f\"F1 Score: {f1_score(y_train_full, y_pred_cv)}\")\n",
    "print(f\"Precision: {precision_score(y_train_full, y_pred_cv)}\")\n",
    "print(f\"Recall: {recall_score(y_train_full, y_pred_cv)}\")\n",
    "print(f\"Specificity: {recall_score(y_train_full, y_pred_cv, pos_label=0)}\")\n",
    "print()\n",
    "\n",
    "model.fit(X_train_full, y_train_full)\n",
    "y_pred = model.predict(X_test_reserved)\n",
    "\n",
    "print(f\"\\nResult of the test set: {X_test_reserved.shape}\")\n",
    "\n",
    "print(confusion_matrix(y_test_reserved, y_pred))\n",
    "print(classification_report(y_test_reserved, y_pred))\n",
    "print(f\"Balanced accuracy score: {balanced_accuracy_score(y_test_reserved, y_pred)}\")\n",
    "print(f\"F1 Score: {f1_score(y_test_reserved, y_pred)}\")\n",
    "print(f\"Precision: {precision_score(y_test_reserved, y_pred)}\")\n",
    "print(f\"Recall: {recall_score(y_test_reserved, y_pred)}\")\n",
    "print(f\"Specificity: {recall_score(y_test_reserved, y_pred, pos_label=0)}\")\n",
    "\n",
    "\n",
    "print(\"\\nUse the whole data to train and do CV using StratifiedKFold with random_state={rs}\")\n",
    "y_pred_cv = cross_val_predict(model, X, y, cv=stratified_kfold)\n",
    "print(confusion_matrix(y, y_pred_cv))\n",
    "print(classification_report(y, y_pred_cv))\n",
    "print(f\"Balanced accuracy score: {balanced_accuracy_score(y, y_pred_cv)}\")\n",
    "print(f\"F1 Score: {f1_score(y, y_pred_cv)}\")\n",
    "print(f\"Precision: {precision_score(y, y_pred_cv)}\")\n",
    "print(f\"Recall: {recall_score(y, y_pred_cv)}\")\n",
    "print(f\"Specificity: {recall_score(y, y_pred_cv, pos_label=0)}\")\n",
    "print()\n",
    "\n",
    "\n",
    "print(f\"Predict the test file:\")\n",
    "\n",
    "X = pd.read_excel(test_file_path)\n",
    "\n",
    "X.replace(999, np.nan, inplace=True)\n",
    "\n",
    "NUM_OF_SELECTED_FEATURES = \"corr_25\"\n",
    "\n",
    "with open(f'../FeatureSelection/pkl/{NUM_OF_SELECTED_FEATURES}_selected_features.pkl', mode='rb') as file:\n",
    "    selected_features = load(file)\n",
    "    print(f\"Loaded '{file.name}' to selected_feature\")\n",
    "\n",
    "X = X[selected_features]\n",
    "y_pred = model.predict(X)\n",
    "\n",
    "print(y_pred)"
   ]
  }
 ],
 "metadata": {
  "kernelspec": {
   "display_name": "MLEAsm",
   "language": "python",
   "name": "python3"
  },
  "language_info": {
   "codemirror_mode": {
    "name": "ipython",
    "version": 3
   },
   "file_extension": ".py",
   "mimetype": "text/x-python",
   "name": "python",
   "nbconvert_exporter": "python",
   "pygments_lexer": "ipython3",
   "version": "3.10.15"
  }
 },
 "nbformat": 4,
 "nbformat_minor": 2
}
