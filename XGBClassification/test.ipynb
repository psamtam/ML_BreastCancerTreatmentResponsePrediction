{
 "cells": [
  {
   "cell_type": "markdown",
   "metadata": {},
   "source": [
    "### Imports"
   ]
  },
  {
   "cell_type": "code",
   "execution_count": 24,
   "metadata": {},
   "outputs": [],
   "source": [
    "import sys\n",
    "import os\n",
    "\n",
    "# Add the parent directory to the system path\n",
    "sys.path.append(os.path.abspath('../'))  # Adjust the path as needed\n",
    "\n",
    "from my_util import df_to_corr_matrix, remove_outliers\n",
    "\n",
    "import tensorflow as tf\n",
    "import pandas as pd\n",
    "import numpy as np\n",
    "import seaborn as sns\n",
    "import matplotlib.pyplot as plt\n",
    "import plotly.graph_objects as go\n",
    "\n",
    "from matplotlib.colors import Normalize\n",
    "from sklearn.decomposition import PCA\n",
    "from sklearn.model_selection import train_test_split, KFold, cross_val_score, GridSearchCV, cross_val_predict, StratifiedKFold\n",
    "from sklearn.preprocessing import StandardScaler, RobustScaler\n",
    "from sklearn.tree import DecisionTreeClassifier\n",
    "from sklearn.metrics import classification_report, confusion_matrix, precision_score, recall_score, accuracy_score, f1_score, make_scorer, balanced_accuracy_score\n",
    "from sklearn.svm import SVC\n",
    "from sklearn.feature_selection import SelectKBest, f_classif, chi2, mutual_info_classif\n",
    "from sklearn.impute import KNNImputer\n",
    "\n",
    "from imblearn.over_sampling import SMOTE\n",
    "from imblearn.pipeline import Pipeline\n",
    "\n",
    "from joblib import Parallel, delayed\n",
    "\n",
    "import xgboost as xgb\n",
    "from xgboost import XGBClassifier\n",
    "\n",
    "from pickle import dump , load\n",
    "\n",
    "import warnings"
   ]
  },
  {
   "cell_type": "markdown",
   "metadata": {},
   "source": [
    "### Parameter\n"
   ]
  },
  {
   "cell_type": "code",
   "execution_count": 27,
   "metadata": {},
   "outputs": [],
   "source": [
    "params = []\n",
    "with open(\"pkl/best_params_15.pkl\", 'rb') as file:\n",
    "  params.append(load(file))\n",
    "with open(\"pkl/best_params_20.pkl\", 'rb') as file:\n",
    "  params.append(load(file))\n",
    "with open(\"pkl/best_params_25.pkl\", 'rb') as file:\n",
    "  params.append(load(file))\n",
    "with open(\"pkl/best_params_30.pkl\", 'rb') as file:\n",
    "  params.append(load(file))\n",
    "with open(\"pkl/best_params_35.pkl\", 'rb') as file:\n",
    "  params.append(load(file))"
   ]
  },
  {
   "cell_type": "code",
   "execution_count": 3,
   "metadata": {},
   "outputs": [],
   "source": [
    "test_file_path = '../TestDatasetExample.xls'"
   ]
  },
  {
   "cell_type": "markdown",
   "metadata": {},
   "source": [
    "### Load data"
   ]
  },
  {
   "cell_type": "code",
   "execution_count": 4,
   "metadata": {},
   "outputs": [
    {
     "name": "stdout",
     "output_type": "stream",
     "text": [
      "Loaded '../FeatureSelection/pkl/corr_25_selected_features.pkl' to selected_feature\n",
      "Loaded selected_features to X\n"
     ]
    }
   ],
   "source": [
    "X = pd.read_excel(test_file_path)\n",
    "\n",
    "X.replace(999, np.nan, inplace=True)\n",
    "\n",
    "NUM_OF_SELECTED_FEATURES = \"corr_25\"\n",
    "\n",
    "with open(f'../FeatureSelection/pkl/{NUM_OF_SELECTED_FEATURES}_selected_features.pkl', mode='rb') as file:\n",
    "    selected_features = load(file)\n",
    "    print(f\"Loaded '{file.name}' to selected_feature\")\n",
    "\n",
    "X = X[selected_features]\n",
    "print('Loaded selected_features to X')"
   ]
  },
  {
   "cell_type": "markdown",
   "metadata": {},
   "source": [
    "### Load model"
   ]
  },
  {
   "cell_type": "code",
   "execution_count": 5,
   "metadata": {},
   "outputs": [
    {
     "name": "stdout",
     "output_type": "stream",
     "text": [
      "['Gene', 'HER2', 'PgR', 'ER', 'original_firstorder_10Percentile', 'original_ngtdm_Busyness', 'LNStatus', 'TumourStage', 'original_gldm_DependenceEntropy', 'original_firstorder_Skewness', 'original_glrlm_ShortRunHighGrayLevelEmphasis', 'original_ngtdm_Strength', 'original_gldm_SmallDependenceEmphasis', 'original_firstorder_InterquartileRange', 'original_shape_MajorAxisLength', 'original_glrlm_LongRunLowGrayLevelEmphasis', 'original_firstorder_Minimum', 'HistologyType', 'ChemoGrade', 'original_shape_Maximum2DDiameterRow', 'original_shape_Maximum2DDiameterColumn', 'original_shape_SurfaceVolumeRatio', 'original_shape_LeastAxisLength', 'original_glcm_Autocorrelation', 'original_shape_Sphericity']\n"
     ]
    }
   ],
   "source": [
    "model = XGBClassifier()\n",
    "model.load_model(\"model.ubj\")\n",
    "\n",
    "print(selected_features)\n",
    "y_pred = model.predict(X)"
   ]
  },
  {
   "cell_type": "code",
   "execution_count": 6,
   "metadata": {},
   "outputs": [
    {
     "data": {
      "text/plain": [
       "array([0, 1, 1])"
      ]
     },
     "execution_count": 6,
     "metadata": {},
     "output_type": "execute_result"
    }
   ],
   "source": [
    "y_pred"
   ]
  },
  {
   "cell_type": "markdown",
   "metadata": {},
   "source": [
    "### Retrain the model with different data and evaluate the model"
   ]
  },
  {
   "cell_type": "code",
   "execution_count": 90,
   "metadata": {},
   "outputs": [
    {
     "name": "stdout",
     "output_type": "stream",
     "text": [
      "File 0:\n",
      "[[43 19]\n",
      " [ 5 12]]\n",
      "0.6997153700189753\n",
      "File 1:\n",
      "[[31 31]\n",
      " [ 0 17]]\n",
      "0.75\n",
      "File 2:\n",
      "[[40 22]\n",
      " [ 3 14]]\n",
      "0.7343453510436433\n",
      "Averaged balanced accuracy: 0.7280202403542062\n"
     ]
    }
   ],
   "source": [
    "NUM_OF_SELECTED_FEATURES = [25, 30, 35]\n",
    "\n",
    "files = [(\"../train_data.xls\", \"../test_data.xls\"), (\"../train_data_2.xls\", \"../test_data_2.xls\"), (\"../train_data_3.xls\", \"../test_data_3.xls\")]\n",
    "\n",
    "ba = []\n",
    "\n",
    "for index, (train_file, test_file) in enumerate(files):\n",
    "    data = pd.read_excel(train_file)\n",
    "    data.replace(999, np.nan, inplace=True)\n",
    "\n",
    "    data.drop([\"ID\", \"RelapseFreeSurvival (outcome)\"], axis=1, inplace=True)\n",
    "    data.dropna(subset=[\"pCR (outcome)\"], inplace=True)\n",
    "\n",
    "    X = data.drop(columns='pCR (outcome)', axis=1)\n",
    "    y = data[\"pCR (outcome)\"]\n",
    "    # print(X.shape, y.shape)\n",
    "\n",
    "    testdata = pd.read_excel(test_file)\n",
    "    testdata.replace(999, np.nan, inplace=True)\n",
    "\n",
    "    testdata.drop([\"ID\", \"RelapseFreeSurvival (outcome)\"], axis=1, inplace=True)\n",
    "    testdata.dropna(subset=[\"pCR (outcome)\"], inplace=True)\n",
    "\n",
    "    X_test = testdata.drop(columns='pCR (outcome)', axis=1)\n",
    "    y_test = testdata[\"pCR (outcome)\"]\n",
    "    # print(X_test.shape, y_test.shape)\n",
    "\n",
    "    models = len(NUM_OF_SELECTED_FEATURES)*[XGBClassifier()]\n",
    "\n",
    "    selected_features = []\n",
    "\n",
    "    for i in NUM_OF_SELECTED_FEATURES:\n",
    "        FEATURES_FILE_PREFIX = F\"corr_{i}\"\n",
    "        with open(f'../FeatureSelection/pkl/{FEATURES_FILE_PREFIX}_selected_features.pkl', mode='rb') as file:\n",
    "            selected_features.append(load(file))\n",
    "            # print(f\"Loaded '{file.name}' to selected_feature\")\n",
    "\n",
    "    y_pred = []\n",
    "\n",
    "    for i, model in enumerate(models):\n",
    "        X_train_temp = X[selected_features[i]]\n",
    "        X_test_temp = X_test[selected_features[i]]\n",
    "        model.set_params(**params[5-len(NUM_OF_SELECTED_FEATURES)+i])\n",
    "        model.fit(X, y)\n",
    "        y_pred.append(model.predict(X_test))\n",
    "\n",
    "    y_pred = np.array(y_pred)\n",
    "\n",
    "    yp = np.round(np.average(y_pred, axis=0))\n",
    "\n",
    "    print(f\"File {index}:\")\n",
    "    print(confusion_matrix(y_test, yp))\n",
    "    ba.append(balanced_accuracy_score(y_test, yp))\n",
    "    print(ba[-1])\n",
    "\n",
    "print(f\"Averaged balanced accuracy: {np.mean(ba)}\")\n"
   ]
  },
  {
   "cell_type": "code",
   "execution_count": 48,
   "metadata": {},
   "outputs": [
    {
     "name": "stdout",
     "output_type": "stream",
     "text": [
      "{'gamma': 0.01, 'learning_rate': 0.041870422386972375, 'max_bin': 13, 'max_depth': 1, 'max_leaves': 2, 'min_child_weight': 2.8986170391945087, 'n_estimators': 180, 'num_parallel_tree': 2, 'scale_pos_weight': 4.5}\n",
      "{'gamma': 0.3, 'learning_rate': 0.20282080851348258, 'max_bin': 7, 'max_depth': 1, 'max_leaves': 3, 'min_child_weight': 6.566615599070236, 'n_estimators': 30, 'num_parallel_tree': 1, 'scale_pos_weight': 3.8}\n",
      "{'gamma': 0.01, 'learning_rate': 0.0385027190573996, 'max_bin': 4, 'max_depth': 1, 'max_leaves': 5, 'min_child_weight': 0.7459049556420737, 'n_estimators': 199, 'num_parallel_tree': 1, 'scale_pos_weight': 4.5}\n",
      "{'gamma': 0, 'learning_rate': 0.03650742884883299, 'max_bin': 2, 'max_depth': 5, 'max_leaves': 3, 'min_child_weight': 0.0, 'n_estimators': 110, 'num_parallel_tree': 1, 'scale_pos_weight': 3.8}\n",
      "{'gamma': 0.1, 'learning_rate': 0.0011667187886546136, 'max_bin': 14, 'max_depth': 2, 'max_leaves': 4, 'min_child_weight': 0.0, 'n_estimators': 200, 'num_parallel_tree': 1, 'scale_pos_weight': 3.8}\n"
     ]
    }
   ],
   "source": [
    "for p in params:\n",
    "  print(p)"
   ]
  }
 ],
 "metadata": {
  "kernelspec": {
   "display_name": "MLEAsm",
   "language": "python",
   "name": "python3"
  },
  "language_info": {
   "codemirror_mode": {
    "name": "ipython",
    "version": 3
   },
   "file_extension": ".py",
   "mimetype": "text/x-python",
   "name": "python",
   "nbconvert_exporter": "python",
   "pygments_lexer": "ipython3",
   "version": "3.10.15"
  }
 },
 "nbformat": 4,
 "nbformat_minor": 2
}
