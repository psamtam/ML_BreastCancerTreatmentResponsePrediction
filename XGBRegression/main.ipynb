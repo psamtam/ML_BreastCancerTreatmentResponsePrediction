{
 "cells": [
  {
   "cell_type": "markdown",
   "metadata": {},
   "source": [
    "Set the path to the `xls` file"
   ]
  },
  {
   "cell_type": "code",
   "execution_count": 3,
   "metadata": {},
   "outputs": [],
   "source": [
    "training_file = \"../TrainDataset2024.xls\"\n",
    "# training_file = \"/kaggle/input/dataset/TrainDataset2024.xls\""
   ]
  },
  {
   "cell_type": "markdown",
   "metadata": {},
   "source": [
    "Import libraries"
   ]
  },
  {
   "cell_type": "code",
   "execution_count": 76,
   "metadata": {},
   "outputs": [],
   "source": [
    "import sys\n",
    "import os\n",
    "\n",
    "# Add the parent directory to the system path\n",
    "sys.path.append(os.path.abspath('../'))  # Adjust the path as needed\n",
    "\n",
    "from my_util import df_to_corr_matrix, remove_outliers\n",
    "\n",
    "import tensorflow as tf\n",
    "import pandas as pd\n",
    "import numpy as np\n",
    "import seaborn as sns\n",
    "import matplotlib.pyplot as plt\n",
    "import plotly.graph_objects as go\n",
    "\n",
    "from matplotlib.colors import Normalize\n",
    "from sklearn.decomposition import PCA\n",
    "from sklearn.model_selection import train_test_split, KFold, cross_val_score, GridSearchCV, cross_val_predict, StratifiedKFold\n",
    "from sklearn.preprocessing import StandardScaler, RobustScaler\n",
    "from sklearn.tree import DecisionTreeClassifier\n",
    "from sklearn.metrics import classification_report, confusion_matrix, precision_score, recall_score, accuracy_score, f1_score, make_scorer, balanced_accuracy_score\n",
    "from sklearn.metrics import mean_absolute_error\n",
    "from sklearn.svm import SVC\n",
    "from sklearn.feature_selection import SelectKBest, f_classif, chi2, mutual_info_classif\n",
    "from sklearn.impute import KNNImputer\n",
    "\n",
    "\n",
    "from imblearn.over_sampling import SMOTE\n",
    "from imblearn.pipeline import Pipeline\n",
    "\n",
    "from joblib import Parallel, delayed\n",
    "\n",
    "import xgboost as xgb\n",
    "from xgboost import XGBClassifier, XGBRegressor\n",
    "\n",
    "from pickle import dump , load\n",
    "\n",
    "import warnings"
   ]
  },
  {
   "cell_type": "code",
   "execution_count": 6,
   "metadata": {},
   "outputs": [
    {
     "name": "stdout",
     "output_type": "stream",
     "text": [
      "Loaded '../FeatureSelection/pkl/regression_features_corr_25_selected_features.pkl' to selected_feature\n",
      "(400, 25) (400,)\n",
      "['original_firstorder_InterquartileRange', 'original_firstorder_Kurtosis', 'TumourStage', 'original_shape_MajorAxisLength', 'original_firstorder_90Percentile', 'ChemoGrade', 'HER2', 'original_shape_Maximum2DDiameterRow', 'original_shape_LeastAxisLength', 'original_shape_Maximum2DDiameterColumn', 'original_glszm_SmallAreaEmphasis', 'Age', 'original_shape_Sphericity', 'original_firstorder_10Percentile', 'original_glszm_SizeZoneNonUniformityNormalized', 'original_gldm_DependenceEntropy', 'original_ngtdm_Busyness', 'original_glcm_Imc1', 'Gene', 'original_gldm_SmallDependenceEmphasis', 'original_glszm_GrayLevelNonUniformityNormalized', 'PgR', 'TrippleNegative', 'original_shape_Elongation', 'original_glcm_Correlation']\n"
     ]
    }
   ],
   "source": [
    "NUM_OF_SELECTED_FEATURES = \"regression_features_corr_25\"\n",
    "\n",
    "data = pd.read_excel(training_file)\n",
    "data.replace(999, np.nan, inplace=True)\n",
    "\n",
    "data.drop([\"ID\", \"pCR (outcome)\"], axis=1, inplace=True)\n",
    "data.dropna(subset=[\"RelapseFreeSurvival (outcome)\"], inplace=True)\n",
    "\n",
    "with open(f'../FeatureSelection/pkl/{NUM_OF_SELECTED_FEATURES}_selected_features.pkl', mode='rb') as file:\n",
    "    selected_features = load(file)\n",
    "    print(f\"Loaded '{file.name}' to selected_feature\")\n",
    "\n",
    "X = data[selected_features]\n",
    "y = data[\"RelapseFreeSurvival (outcome)\"]\n",
    "print(X.shape, y.shape)\n",
    "\n",
    "print(selected_features)"
   ]
  },
  {
   "cell_type": "code",
   "execution_count": 61,
   "metadata": {},
   "outputs": [
    {
     "name": "stdout",
     "output_type": "stream",
     "text": [
      "Splited the data into train and test. The test will not be used in the training, but just for test the xgb. \n",
      "The training data has 320 data. The testing data has 80 data. \n",
      "RandomState = 7\n"
     ]
    }
   ],
   "source": [
    "import random\n",
    "\n",
    "randomstate = random.randint(0, 1000)\n",
    "randomstate = 7\n",
    "X_train_full, X_test_reserved, y_train_full, y_test_reserved = train_test_split(X, y, test_size=0.2, random_state=randomstate) # similar distribution of 1 and 0\n",
    "\n",
    "X_train_full.reset_index(drop=True, inplace=True)\n",
    "X_test_reserved.reset_index(drop=True, inplace=True)\n",
    "y_train_full.reset_index(drop=True, inplace=True)\n",
    "y_test_reserved.reset_index(drop=True, inplace=True)\n",
    "\n",
    "\n",
    "print(\"Splited the data into train and test. The test will not be used in the training, but just for test the xgb. \")\n",
    "print(f\"The training data has {len(X_train_full)} data. The testing data has {len(X_test_reserved)} data. \")\n",
    "print(f\"RandomState = {randomstate}\")\n"
   ]
  },
  {
   "cell_type": "code",
   "execution_count": 62,
   "metadata": {},
   "outputs": [
    {
     "data": {
      "text/plain": [
       "(array([0.00499132, 0.00434028, 0.01540799, 0.01236979, 0.01388889,\n",
       "        0.00976562, 0.00499132, 0.0015191 , 0.00065104, 0.0015191 ]),\n",
       " array([  0. ,  14.4,  28.8,  43.2,  57.6,  72. ,  86.4, 100.8, 115.2,\n",
       "        129.6, 144. ]),\n",
       " <BarContainer object of 10 artists>)"
      ]
     },
     "execution_count": 62,
     "metadata": {},
     "output_type": "execute_result"
    },
    {
     "data": {
      "image/png": "[encoded data removed]",
      "text/plain": [
       "<Figure size 640x480 with 1 Axes>"
      ]
     },
     "metadata": {},
     "output_type": "display_data"
    }
   ],
   "source": [
    "plt.hist(y, density=True, alpha=0.5)\n",
    "plt.hist(y_train_full, density=True, alpha=0.5)"
   ]
  },
  {
   "cell_type": "code",
   "execution_count": 103,
   "metadata": {},
   "outputs": [
    {
     "name": "stdout",
     "output_type": "stream",
     "text": [
      "Fitting 5 folds for each of 69120 candidates, totalling 345600 fits\n",
      "Best parameter: {'gamma': 0, 'learning_rate': 0.1, 'max_bin': 3, 'max_delta_step': 0, 'max_depth': 2, 'max_leaves': 3, 'min_child_weight': 0.001, 'n_estimators': 100}\n",
      "Best score: -20.039419563611347\n"
     ]
    }
   ],
   "source": [
    "model = XGBRegressor(objective=\"reg:absoluteerror\")\n",
    "\n",
    "param_grid = {\n",
    "    \"gamma\": [0, 0.1, 0.2],\n",
    "    \"learning_rate\": [0.01, 0.1, 0.2, 0.3],\n",
    "    \"max_bin\": [2, 3, 4, 5, 10],\n",
    "    \"max_delta_step\": [0, 1, 2],\n",
    "    \"max_depth\": [1, 2, 4, 6],\n",
    "    \"max_leaves\": [0, 1, 2, 3, 4, 5],\n",
    "    \"min_child_weight\": [0.001, 0.01, 0.1, 0.5],\n",
    "    \"n_estimators\": [10, 50, 100, 200],\n",
    "}\n",
    "\n",
    "# Set up the GridSearchCV\n",
    "grid_search = GridSearchCV(\n",
    "    estimator=model,\n",
    "    param_grid=param_grid,\n",
    "    scoring='neg_mean_absolute_error', \n",
    "    cv=5,\n",
    "    verbose=1,\n",
    "    n_jobs=-1,\n",
    "    return_train_score=True,\n",
    ")\n",
    "\n",
    "grid_search.fit(X_train_full, y_train_full)\n",
    "\n",
    "print(f\"Best parameter: {grid_search.best_params_}\")\n",
    "print(f\"Best score: {grid_search.best_score_}\")"
   ]
  },
  {
   "cell_type": "code",
   "execution_count": 104,
   "metadata": {},
   "outputs": [],
   "source": [
    "pd.DataFrame(grid_search.cv_results_).to_csv(\"output.csv\")"
   ]
  },
  {
   "cell_type": "code",
   "execution_count": 109,
   "metadata": {},
   "outputs": [
    {
     "name": "stdout",
     "output_type": "stream",
     "text": [
      "{'gamma': 0, 'learning_rate': 0.1, 'max_bin': 3, 'max_delta_step': 0, 'max_depth': 2, 'max_leaves': 3, 'min_child_weight': 0.001, 'n_estimators': 100}\n",
      "-20.039419563611347\n",
      "20.508699798583983\n"
     ]
    },
    {
     "data": {
      "text/html": [
       "<div>\n",
       "<style scoped>\n",
       "    .dataframe tbody tr th:only-of-type {\n",
       "        vertical-align: middle;\n",
       "    }\n",
       "\n",
       "    .dataframe tbody tr th {\n",
       "        vertical-align: top;\n",
       "    }\n",
       "\n",
       "    .dataframe thead th {\n",
       "        text-align: right;\n",
       "    }\n",
       "</style>\n",
       "<table border=\"1\" class=\"dataframe\">\n",
       "  <thead>\n",
       "    <tr style=\"text-align: right;\">\n",
       "      <th></th>\n",
       "      <th>0</th>\n",
       "      <th>1</th>\n",
       "      <th>2</th>\n",
       "    </tr>\n",
       "  </thead>\n",
       "  <tbody>\n",
       "    <tr>\n",
       "      <th>0</th>\n",
       "      <td>43.000000</td>\n",
       "      <td>37.987656</td>\n",
       "      <td>5.012344</td>\n",
       "    </tr>\n",
       "    <tr>\n",
       "      <th>1</th>\n",
       "      <td>9.000000</td>\n",
       "      <td>53.990318</td>\n",
       "      <td>-44.990318</td>\n",
       "    </tr>\n",
       "    <tr>\n",
       "      <th>2</th>\n",
       "      <td>73.000000</td>\n",
       "      <td>59.660213</td>\n",
       "      <td>13.339787</td>\n",
       "    </tr>\n",
       "    <tr>\n",
       "      <th>3</th>\n",
       "      <td>16.000000</td>\n",
       "      <td>53.314426</td>\n",
       "      <td>-37.314426</td>\n",
       "    </tr>\n",
       "    <tr>\n",
       "      <th>4</th>\n",
       "      <td>59.000000</td>\n",
       "      <td>60.072800</td>\n",
       "      <td>-1.072800</td>\n",
       "    </tr>\n",
       "    <tr>\n",
       "      <th>...</th>\n",
       "      <td>...</td>\n",
       "      <td>...</td>\n",
       "      <td>...</td>\n",
       "    </tr>\n",
       "    <tr>\n",
       "      <th>75</th>\n",
       "      <td>53.000000</td>\n",
       "      <td>55.507435</td>\n",
       "      <td>-2.507435</td>\n",
       "    </tr>\n",
       "    <tr>\n",
       "      <th>76</th>\n",
       "      <td>93.000000</td>\n",
       "      <td>59.416786</td>\n",
       "      <td>33.583214</td>\n",
       "    </tr>\n",
       "    <tr>\n",
       "      <th>77</th>\n",
       "      <td>82.416667</td>\n",
       "      <td>47.146587</td>\n",
       "      <td>35.270079</td>\n",
       "    </tr>\n",
       "    <tr>\n",
       "      <th>78</th>\n",
       "      <td>89.000000</td>\n",
       "      <td>57.640259</td>\n",
       "      <td>31.359741</td>\n",
       "    </tr>\n",
       "    <tr>\n",
       "      <th>79</th>\n",
       "      <td>88.000000</td>\n",
       "      <td>54.131992</td>\n",
       "      <td>33.868008</td>\n",
       "    </tr>\n",
       "  </tbody>\n",
       "</table>\n",
       "<p>80 rows × 3 columns</p>\n",
       "</div>"
      ],
      "text/plain": [
       "            0          1          2\n",
       "0   43.000000  37.987656   5.012344\n",
       "1    9.000000  53.990318 -44.990318\n",
       "2   73.000000  59.660213  13.339787\n",
       "3   16.000000  53.314426 -37.314426\n",
       "4   59.000000  60.072800  -1.072800\n",
       "..        ...        ...        ...\n",
       "75  53.000000  55.507435  -2.507435\n",
       "76  93.000000  59.416786  33.583214\n",
       "77  82.416667  47.146587  35.270079\n",
       "78  89.000000  57.640259  31.359741\n",
       "79  88.000000  54.131992  33.868008\n",
       "\n",
       "[80 rows x 3 columns]"
      ]
     },
     "metadata": {},
     "output_type": "display_data"
    }
   ],
   "source": [
    "print(grid_search.best_params_)\n",
    "print(grid_search.best_score_)\n",
    "\n",
    "model = grid_search.best_estimator_\n",
    "\n",
    "y_pred = model.predict(X_test_reserved)\n",
    "\n",
    "print(mean_absolute_error(y_test_reserved, y_pred))\n",
    "\n",
    "l1 = np.array(list(y_test_reserved))\n",
    "l2 = np.array(list(y_pred))\n",
    "l3 = l1 - l2\n",
    "\n",
    "display(pd.DataFrame([l1, l2, l3]).T)"
   ]
  }
 ],
 "metadata": {
  "kernelspec": {
   "display_name": "MLEAsm",
   "language": "python",
   "name": "python3"
  },
  "language_info": {
   "codemirror_mode": {
    "name": "ipython",
    "version": 3
   },
   "file_extension": ".py",
   "mimetype": "text/x-python",
   "name": "python",
   "nbconvert_exporter": "python",
   "pygments_lexer": "ipython3",
   "version": "3.10.15"
  }
 },
 "nbformat": 4,
 "nbformat_minor": 2
}
